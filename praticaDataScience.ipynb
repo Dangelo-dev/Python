{
  "nbformat": 4,
  "nbformat_minor": 0,
  "metadata": {
    "colab": {
      "provenance": [],
      "authorship_tag": "ABX9TyMoX7XtUorlguKDi2XZHX08",
      "include_colab_link": true
    },
    "kernelspec": {
      "name": "python3",
      "display_name": "Python 3"
    },
    "language_info": {
      "name": "python"
    }
  },
  "cells": [
    {
      "cell_type": "markdown",
      "metadata": {
        "id": "view-in-github",
        "colab_type": "text"
      },
      "source": [
        "<a href=\"https://colab.research.google.com/github/Dangelo-dev/Python/blob/main/praticaDataScience.ipynb\" target=\"_parent\"><img src=\"https://colab.research.google.com/assets/colab-badge.svg\" alt=\"Open In Colab\"/></a>"
      ]
    },
    {
      "cell_type": "code",
      "execution_count": null,
      "metadata": {
        "id": "ph5NprHqJ50r"
      },
      "outputs": [],
      "source": [
        "users\t=\t[\n",
        "    {\t\"id\":\t0,\t\"name\":\t\"Hero\"\t},\n",
        "    {\t\"id\":\t1,\t\"name\":\t\"Dunn\"\t},\n",
        "    {\t\"id\":\t2,\t\"name\":\t\"Sue\"\t},\n",
        "    {\t\"id\":\t3,\t\"name\":\t\"Chi\"\t},\n",
        "    {\t\"id\":\t4,\t\"name\":\t\"Thor\"\t},\n",
        "    {\t\"id\":\t5,\t\"name\":\t\"Clive\"\t},\n",
        "    {\t\"id\":\t6,\t\"name\":\t\"Hicks\"\t},\n",
        "    {\t\"id\":\t7,\t\"name\":\t\"Devin\"\t},\n",
        "    {\t\"id\":\t8,\t\"name\":\t\"Kate\"\t},\n",
        "    {\t\"id\":\t9,\t\"name\":\t\"Klein\"\t}\n",
        "    ]"
      ]
    },
    {
      "cell_type": "code",
      "source": [
        "friendships\t= [\n",
        "    (0,\t1),\n",
        "    (0,\t2),\n",
        "    (1,\t2),\n",
        "    (1,\t3),\n",
        "    (2,\t3),\n",
        "    (3,\t4),\n",
        "    (4,\t5),\n",
        "    (5,\t6),\n",
        "    (5,\t7),\n",
        "    (6,\t8),\n",
        "    (7,\t8),\n",
        "    (8,\t9)\n",
        "]"
      ],
      "metadata": {
        "id": "n4uJc2uKKFOO"
      },
      "execution_count": null,
      "outputs": []
    },
    {
      "cell_type": "code",
      "source": [
        "for user in users:\n",
        "    user[\"friends\"] = []"
      ],
      "metadata": {
        "id": "NZ328ZrsK3LI"
      },
      "execution_count": null,
      "outputs": []
    },
    {
      "cell_type": "code",
      "source": [
        "for i, j in friendships:\n",
        "    users[i][\"friends\"].append(users[j])\n",
        "    users[j][\"friends\"].append(users[i])"
      ],
      "metadata": {
        "id": "kuVaAG_WLMUn"
      },
      "execution_count": null,
      "outputs": []
    },
    {
      "cell_type": "code",
      "source": [
        "def number_of_friends(user):\n",
        "  \"\"\"Quantos amigos o usuário tem\"\"\"\n",
        "  return len(user[\"friends\"]) # Tamanho da lista friends_id\n",
        "\n",
        "total_connections = sum(number_of_friends(user) for user in users)\n",
        "print(total_connections)"
      ],
      "metadata": {
        "colab": {
          "base_uri": "https://localhost:8080/"
        },
        "id": "6vDDkEgcLdp_",
        "outputId": "00df8ce5-22ef-450c-ca74-93529e050756"
      },
      "execution_count": null,
      "outputs": [
        {
          "output_type": "stream",
          "name": "stdout",
          "text": [
            "24\n"
          ]
        }
      ]
    },
    {
      "cell_type": "code",
      "source": [
        "from __future__ import division # Divisão inteira está incompleta\n",
        "num_users = len(users) # Tamanho da lista de usuários\n",
        "avg_connections = total_connections / num_users # Conexão média = total conexão / total de usuários\n",
        "print(avg_connections)"
      ],
      "metadata": {
        "colab": {
          "base_uri": "https://localhost:8080/"
        },
        "id": "HgJRYgCcL5F2",
        "outputId": "3e5d50b5-fc34-440d-f172-95b9b557e36e"
      },
      "execution_count": null,
      "outputs": [
        {
          "output_type": "stream",
          "name": "stdout",
          "text": [
            "2.4\n"
          ]
        }
      ]
    },
    {
      "cell_type": "code",
      "source": [
        "num_friends_by_id = [(user[\"id\"], number_of_friends(user)) for user in users]\n",
        "sorted(num_friends_by_id, key=lambda x: x[1], reverse=True)"
      ],
      "metadata": {
        "id": "flm3eJwIMLOW",
        "colab": {
          "base_uri": "https://localhost:8080/"
        },
        "outputId": "78b2d82d-8da9-450b-fb65-ba7dd6f24429"
      },
      "execution_count": null,
      "outputs": [
        {
          "output_type": "execute_result",
          "data": {
            "text/plain": [
              "[(1, 3),\n",
              " (2, 3),\n",
              " (3, 3),\n",
              " (5, 3),\n",
              " (8, 3),\n",
              " (0, 2),\n",
              " (4, 2),\n",
              " (6, 2),\n",
              " (7, 2),\n",
              " (9, 1)]"
            ]
          },
          "metadata": {},
          "execution_count": 7
        }
      ]
    },
    {
      "cell_type": "code",
      "source": [
        " def friends_of_friend_ids_bad(user):\n",
        "    # 'foaf' é abreviação de 'friend of a friend'\n",
        "    return [foaf[\"id\"]\n",
        "            for friend in user[\"friends\"]\n",
        "            for foaf in friend[\"friends\"]\n",
        "            ]\n",
        "\n",
        "friends_of_friend_ids_bad(users[0])"
      ],
      "metadata": {
        "colab": {
          "base_uri": "https://localhost:8080/"
        },
        "id": "SPEP_rUrOUkn",
        "outputId": "f5de2094-faa8-46e4-fe7f-0514174d7e5e"
      },
      "execution_count": null,
      "outputs": [
        {
          "output_type": "execute_result",
          "data": {
            "text/plain": [
              "[0, 2, 3, 0, 1, 3]"
            ]
          },
          "metadata": {},
          "execution_count": 64
        }
      ]
    },
    {
      "cell_type": "code",
      "source": [
        "print([friend[\"id\"] for friend in users[0][\"friends\"]])\n",
        "print([friend[\"id\"] for friend in users[1][\"friends\"]])\n",
        "print([friend[\"id\"] for friend in users[2][\"friends\"]])"
      ],
      "metadata": {
        "colab": {
          "base_uri": "https://localhost:8080/"
        },
        "id": "8AXRRB0VoTH6",
        "outputId": "471d0831-16a3-4ee3-9c55-78f9a1d14fcd"
      },
      "execution_count": null,
      "outputs": [
        {
          "output_type": "stream",
          "name": "stdout",
          "text": [
            "[1, 2]\n",
            "[0, 2, 3]\n",
            "[0, 1, 3]\n"
          ]
        }
      ]
    },
    {
      "cell_type": "code",
      "source": [
        "from collections import Counter\n",
        "\n",
        "def not_the_same(user, other_user):\n",
        "    \"\"\"Dois usuários não são os mesmos se possuem ids diferentes\"\"\"\n",
        "    return user['id'] != other_user['id']\n",
        "\n",
        "def not_friends(user, other_user):\n",
        "    \"\"\"Other_user não é um amigo se não está em user[Friends\";\n",
        "    isso é, se é not_the_same com todas as pessoas em user[\"friends\"]\"\"\"\n",
        "    return all(not_the_same(friend, other_user)\n",
        "    for friend in user[\"friends\"])\n",
        "\n",
        "def friends_of_friend_ids(user):\n",
        "    return Counter(foaf[\"id\"]\n",
        "                   for friend in user[\"friends\"] # Para cada um dos meus amigos\n",
        "                  for foaf in friend[\"friends\"] # que contam *their* amigos\n",
        "                  if not_the_same(user, foaf) # que não seja eu\n",
        "                  and not_friends(user, foaf)) # e que não são meus amigos\n",
        "\n",
        "print(friends_of_friend_ids(users[3]))"
      ],
      "metadata": {
        "colab": {
          "base_uri": "https://localhost:8080/"
        },
        "id": "fTuukhE6o7VA",
        "outputId": "f7cdd8f9-46fe-4fee-ec72-8fe205a5d168"
      },
      "execution_count": null,
      "outputs": [
        {
          "output_type": "stream",
          "name": "stdout",
          "text": [
            "Counter({0: 2, 5: 1})\n"
          ]
        }
      ]
    },
    {
      "cell_type": "code",
      "source": [
        "interests\t=\t[\n",
        "    (0,\t\"Hadoop\"), (0,\t\"Big\tData\"), (0,\t\"HBase\"),\t(0,\t\"Java\"), (0,\t\"Spark\"),\t(0,\t\"Storm\"),\t(0,\t\"Cassandra\"),\n",
        "    (1,\t\"NoSQL\"),\t(1,\t\"MongoDB\"),\t(1,\t\"Cassandra\"),\t(1,\t\"HBase\"), (1,\t\"Postgres\"),\n",
        "    (2,\t\"Python\"),\t(2,\t\"scikit-learn\"),\t(2,\t\"scipy\"), (2,\t\"numpy\"),\t(2,\t\"statsmodels\"),\t(2,\t\"pandas\"),\n",
        "    (3,\t\"R\"),\t(3,\t\"Python\"), (3,\t\"statistics\"),\t(3,\t\"regression\"),\t(3,\t\"probability\"),\n",
        "    (4,\t\"machine\tlearning\"),\t(4,\t\"regression\"),\t(4,\t\"decision\ttrees\"), (4,\t\"libsvm\"),\n",
        "    (5,\t\"Python\"),\t(5,\t\"R\"),\t(5,\t\"Java\"),\t(5,\t\"C++\"), (5,\t\"Haskell\"),\t(5,\t\"programming\tlanguages\"),\n",
        "    (6,\t\"statistics\"), (6,\t\"probability\"),\t(6,\t\"mathematics\"),\t(6,\t\"theory\"),\n",
        "    (7,\t\"machine\tlearning\"),\t(7,\t\"scikit-learn\"),\t(7,\t\"Mahout\"), (7,\t\"neural\tnetworks\"),\n",
        "    (8,\t\"neural\tnetworks\"),\t(8,\t\"deep\tlearning\"), (8,\t\"Big\tData\"),\t(8,\t\"artificial\tintelligence\"),\n",
        "    (9,\t\"Hadoop\"), (9,\t\"Java\"),\t(9,\t\"MapReduce\"),\t(9,\t\"Big\tData\")\n",
        "]"
      ],
      "metadata": {
        "id": "Y3rc4g3C7SwX"
      },
      "execution_count": null,
      "outputs": []
    },
    {
      "cell_type": "code",
      "source": [
        "def data_scientists_who_like(target_interest):\n",
        "    return [user_id\n",
        "            for user_id, user_interest in interests\n",
        "            if user_interest == target_interest]"
      ],
      "metadata": {
        "id": "xfXaIkjM-uxo"
      },
      "execution_count": null,
      "outputs": []
    },
    {
      "cell_type": "code",
      "source": [
        "from collections import defaultdict\n",
        "\n",
        "# as chaves são interesses, os valores são listas de user_ids com interests\n",
        "user_ids_by_interest = defaultdict(list)\n",
        "for user_id, interest in interests:\n",
        "    user_ids_by_interest[interest].append(user_id)\n",
        "\n",
        "# as chaves são user_ids, os valores são as listas de interests para aquele user_id\n",
        "interests_by_user_id = defaultdict(list)\n",
        "for user_id, interest in interests:\n",
        "    interests_by_user_id[user_id].append(interest)"
      ],
      "metadata": {
        "id": "mBt5oj3O-9O_"
      },
      "execution_count": null,
      "outputs": []
    },
    {
      "cell_type": "code",
      "source": [
        "def most_commom_interests_with(user):\n",
        "    return Counter(interested_user_id\n",
        "                   for interest in interests_by_user_id[user[\"id\"]]\n",
        "                   for interested_user_id in user_ids_by_interest[interest]\n",
        "                   if interested_user_id != user[\"id\"])\n",
        "print(most_commom_interests_with(users[0]))"
      ],
      "metadata": {
        "colab": {
          "base_uri": "https://localhost:8080/"
        },
        "id": "pANNqrJL_g_Q",
        "outputId": "454eceec-f637-427b-a4a1-399bc36cfcda"
      },
      "execution_count": null,
      "outputs": [
        {
          "output_type": "stream",
          "name": "stdout",
          "text": [
            "Counter({9: 3, 1: 2, 8: 1, 5: 1})\n"
          ]
        }
      ]
    },
    {
      "cell_type": "code",
      "source": [
        "import matplotlib.pyplot as plt\n",
        "\n",
        "# dados de salários e tempos de permanencia\n",
        "salaries_and_tenures\t=\t[\n",
        "    (83000,\t8.7),\t(88000,\t8.1),\n",
        "    (48000,\t0.7),\t(76000,\t6),\n",
        "    (69000,\t6.5),\t(76000,\t7.5),\n",
        "    (60000,\t2.5),\t(83000,\t10),\n",
        "    (48000,\t1.9),\t(63000,\t4.2)\n",
        "]\n",
        "\n",
        "# separar os dados em duas listas: salários e tempos de permanencia\n",
        "salaries\t=\t[salary for salary, tenure in salaries_and_tenures]\n",
        "tenures\t=\t[tenure for salary, tenure in salaries_and_tenures]\n",
        "\n",
        "# criar o scatter plot\n",
        "plt.scatter(tenures, salaries)\n",
        "\n",
        "# adicionar titulo e rótulo aos eixos\n",
        "plt.title(\"Salaries vs. Tenure\")\n",
        "plt.xlabel(\"Years of Tenure\")\n",
        "plt.ylabel(\"Salary\")\n",
        "\n",
        "# Exibir o gráfico\n",
        "plt.show()"
      ],
      "metadata": {
        "colab": {
          "base_uri": "https://localhost:8080/",
          "height": 472
        },
        "id": "9lZuwnP_AVIh",
        "outputId": "e3551540-2f23-4f9a-ba00-733f64ffce6a"
      },
      "execution_count": null,
      "outputs": [
        {
          "output_type": "display_data",
          "data": {
            "text/plain": [
              "<Figure size 640x480 with 1 Axes>"
            ],
            "image/png": "[encoded data removed]"
          },
          "metadata": {}
        }
      ]
    },
    {
      "cell_type": "code",
      "source": [
        "salary_by_tenure = defaultdict(list)\n",
        "\n",
        "# as chaves são os anos, os valores são as listas dos salarios para cada ano\n",
        "for salary, tenure in salaries_and_tenures:\n",
        "    salary_by_tenure[tenure].append(salary)\n",
        "\n",
        "# as chaves são os anos, cada valor é a média salarial para aquele ano\n",
        "average_salary_by_tenure = {\n",
        "    tenure : sum(salaries) / len(salaries)\n",
        "    for tenure, salaries in salary_by_tenure.items()\n",
        "}\n",
        "average_salary_by_tenure"
      ],
      "metadata": {
        "colab": {
          "base_uri": "https://localhost:8080/"
        },
        "id": "XMxpovPDB0MQ",
        "outputId": "12710c21-7276-47f1-e544-8188c38f2781"
      },
      "execution_count": null,
      "outputs": [
        {
          "output_type": "execute_result",
          "data": {
            "text/plain": [
              "{8.7: 83000.0,\n",
              " 8.1: 88000.0,\n",
              " 0.7: 48000.0,\n",
              " 6: 76000.0,\n",
              " 6.5: 69000.0,\n",
              " 7.5: 76000.0,\n",
              " 2.5: 60000.0,\n",
              " 10: 83000.0,\n",
              " 1.9: 48000.0,\n",
              " 4.2: 63000.0}"
            ]
          },
          "metadata": {},
          "execution_count": 16
        }
      ]
    },
    {
      "cell_type": "code",
      "source": [
        "def tenure_bucket(tenure):\n",
        "    if tenure < 2:\n",
        "        return \"menos de dois\"\n",
        "    elif tenure < 5:\n",
        "        return \"entre dois e cinco\"\n",
        "    else:\n",
        "        return \"mais de cinco\""
      ],
      "metadata": {
        "id": "2_ZvSObEGaE7"
      },
      "execution_count": null,
      "outputs": []
    },
    {
      "cell_type": "code",
      "source": [
        "# as chaves são agrupamentos dos casos, os valores são as listas dos salários para aquele agrupamento\n",
        "salary_by_tenure_bucket = defaultdict(list)\n",
        "\n",
        "for salary, tenure in salaries_and_tenures:\n",
        "    bucket = tenure_bucket(tenure)\n",
        "    salary_by_tenure_bucket[bucket].append(salary)\n",
        "\n",
        "# as chaves são agrupamentos dos casos, cada valor é a média salarial para aquele agrupamento\n",
        "average_salary_by_bucket = {\n",
        "      tenure_bucket : sum(salaries) / len(salaries)\n",
        "    for tenure_bucket, salaries in salary_by_tenure_bucket.items()\n",
        "}\n",
        "average_salary_by_bucket"
      ],
      "metadata": {
        "colab": {
          "base_uri": "https://localhost:8080/"
        },
        "id": "eSLUag3tKo20",
        "outputId": "50182c3e-bc80-434a-ae0a-728d30932f6d"
      },
      "execution_count": null,
      "outputs": [
        {
          "output_type": "execute_result",
          "data": {
            "text/plain": [
              "{'mais de cinco': 79166.66666666667,\n",
              " 'menos de dois': 48000.0,\n",
              " 'entre dois e cinco': 61500.0}"
            ]
          },
          "metadata": {},
          "execution_count": 18
        }
      ]
    },
    {
      "cell_type": "code",
      "source": [
        "def predict_paid_or_unpaid(years_experience):\n",
        "    if years_experience < 3.0:\n",
        "        return \"paid\"\n",
        "    elif years_experience <8.5:\n",
        "        return \"unpaid\"\n",
        "    else:\n",
        "        return \"paid\""
      ],
      "metadata": {
        "id": "Vj0bRHj3LKMd"
      },
      "execution_count": null,
      "outputs": []
    },
    {
      "cell_type": "code",
      "source": [
        "words_and_counts = Counter(word\n",
        "                          for user, interest in interests\n",
        "                          for word in interest.lower().split())\n",
        "for word, count in words_and_counts.most_common():\n",
        "    if count > 1:\n",
        "        print(word, count)"
      ],
      "metadata": {
        "colab": {
          "base_uri": "https://localhost:8080/"
        },
        "id": "-5RpIyP6MA3D",
        "outputId": "ca5d26d8-330e-4998-ec48-273aea22e5a2"
      },
      "execution_count": null,
      "outputs": [
        {
          "output_type": "stream",
          "name": "stdout",
          "text": [
            "big 3\n",
            "data 3\n",
            "java 3\n",
            "python 3\n",
            "learning 3\n",
            "hadoop 2\n",
            "hbase 2\n",
            "cassandra 2\n",
            "scikit-learn 2\n",
            "r 2\n",
            "statistics 2\n",
            "regression 2\n",
            "probability 2\n",
            "machine 2\n",
            "neural 2\n",
            "networks 2\n"
          ]
        }
      ]
    },
    {
      "cell_type": "code",
      "source": [
        "for i in [1, 2, 3, 4, 5]:\n",
        "    print (i) # primeira linha para o bloco \"for i\"\n",
        "    for j in [1, 2, 3, 4, 5]:\n",
        "      print (j) # primeira linha para o bloco \"for j\"\n",
        "      print (i + j) # ultima linha para o bloco \"for j\"\n",
        "    print (i) # ultima linha para o bloco \"for i\"\n",
        "print (\"done looping\")"
      ],
      "metadata": {
        "id": "fc2EbEgBMR1M",
        "colab": {
          "base_uri": "https://localhost:8080/"
        },
        "outputId": "b0d93288-9c8f-463a-ae0b-73f6f2282a2b"
      },
      "execution_count": null,
      "outputs": [
        {
          "output_type": "stream",
          "name": "stdout",
          "text": [
            "1\n",
            "1\n",
            "2\n",
            "2\n",
            "3\n",
            "3\n",
            "4\n",
            "4\n",
            "5\n",
            "5\n",
            "6\n",
            "1\n",
            "2\n",
            "1\n",
            "3\n",
            "2\n",
            "4\n",
            "3\n",
            "5\n",
            "4\n",
            "6\n",
            "5\n",
            "7\n",
            "2\n",
            "3\n",
            "1\n",
            "4\n",
            "2\n",
            "5\n",
            "3\n",
            "6\n",
            "4\n",
            "7\n",
            "5\n",
            "8\n",
            "3\n",
            "4\n",
            "1\n",
            "5\n",
            "2\n",
            "6\n",
            "3\n",
            "7\n",
            "4\n",
            "8\n",
            "5\n",
            "9\n",
            "4\n",
            "5\n",
            "1\n",
            "6\n",
            "2\n",
            "7\n",
            "3\n",
            "8\n",
            "4\n",
            "9\n",
            "5\n",
            "10\n",
            "5\n",
            "done looping\n"
          ]
        }
      ]
    },
    {
      "cell_type": "code",
      "source": [
        "long_winded_computation\t=\t(1\t+\t2\t+\t3\t+\t4\t+\t5\t+\t6\t+\t7\t+\t8\t+\t9\t+\t10\t+\t11\t+\t12\t+ 13\t+\t14\t+\t15\t+\t16\t+\t17\t+\t18\t+\t19\t+\t20)"
      ],
      "metadata": {
        "id": "RKc3VE7lPdrW"
      },
      "execution_count": null,
      "outputs": []
    },
    {
      "cell_type": "code",
      "source": [
        "list_of_lists\t=\t[[1,\t2,\t3],\t[4,\t5,\t6],\t[7,\t8,\t9]]\n",
        "easier_to_read_list_of_lists\t=\t[\t[1,\t2,\t3],\n",
        "                                            [4,\t5,\t6],\n",
        "                                            [7,\t8,\t9]\t]"
      ],
      "metadata": {
        "id": "ThzOWqkMQKqM"
      },
      "execution_count": null,
      "outputs": []
    },
    {
      "cell_type": "code",
      "source": [
        "two_plus_three\t=\t2\t+\t\\\n",
        "                  3"
      ],
      "metadata": {
        "id": "wc_gDG4jQYme"
      },
      "execution_count": null,
      "outputs": []
    },
    {
      "cell_type": "code",
      "source": [
        "import regex as re\n",
        "my_regex = re.compile(\"[0-9]+\", re.I)"
      ],
      "metadata": {
        "id": "R-ywrcd4Qe08"
      },
      "execution_count": null,
      "outputs": []
    },
    {
      "cell_type": "code",
      "source": [
        "from collections import defaultdict, Counter\n",
        "lookup = defaultdict(int)\n",
        "my_counter = Counter()"
      ],
      "metadata": {
        "id": "uo9moGYhRpQF"
      },
      "execution_count": null,
      "outputs": []
    },
    {
      "cell_type": "code",
      "source": [
        "def double(x):\n",
        "  # aqui\té\tonde\tvocê\tcoloca\tum\tdocstring\t(cadeia\tde\tcaracteres\tde\tdocumentação)\n",
        "  # opcional que explica\to\tque\ta\tfunção\tfaz. por\texemplo,\testa\tfunção\tmultiplica\tsua\tentrada\tpor\t2\"\"\"\n",
        "    return x * 2\n",
        "\n",
        "print (double(2))"
      ],
      "metadata": {
        "colab": {
          "base_uri": "https://localhost:8080/"
        },
        "id": "Zt_VNp4eS2ol",
        "outputId": "2cbf6342-d84a-4532-cd26-cf64774d53d9"
      },
      "execution_count": null,
      "outputs": [
        {
          "output_type": "stream",
          "name": "stdout",
          "text": [
            "4\n"
          ]
        }
      ]
    },
    {
      "cell_type": "code",
      "source": [
        "def apply_to_one(f):\n",
        "    # Chama a função f com 1 como seu argumento\n",
        "    return f(1)\n",
        "\n",
        "my_double = double # refere-se à função definida anteriormente\n",
        "x = apply_to_one(my_double) # é igual a 2\n",
        "print(x)"
      ],
      "metadata": {
        "colab": {
          "base_uri": "https://localhost:8080/"
        },
        "id": "rlgleIzuTUX2",
        "outputId": "224ba414-ac11-4f2f-e5d7-fce8d46a3a1a"
      },
      "execution_count": null,
      "outputs": [
        {
          "output_type": "stream",
          "name": "stdout",
          "text": [
            "2\n"
          ]
        }
      ]
    },
    {
      "cell_type": "code",
      "source": [
        "y = apply_to_one(lambda x: x + 4) # é igual a 5\n",
        "print(y)"
      ],
      "metadata": {
        "colab": {
          "base_uri": "https://localhost:8080/"
        },
        "id": "lBscdlgPUBiv",
        "outputId": "a76687ad-2b7f-4b63-cf6c-17757077cfb2"
      },
      "execution_count": null,
      "outputs": [
        {
          "output_type": "stream",
          "name": "stdout",
          "text": [
            "5\n"
          ]
        }
      ]
    },
    {
      "cell_type": "code",
      "source": [
        "another_double = lambda x: 2 * x # não faça isso\n",
        "def another_double(x): return 2 * x # faça isso"
      ],
      "metadata": {
        "id": "trE19axcUXx-"
      },
      "execution_count": null,
      "outputs": []
    },
    {
      "cell_type": "code",
      "source": [
        "def my_print(message = \"my default message\"):\n",
        "    print(message)\n",
        "\n",
        "my_print(\"hello\") # exibe 'hello'\n",
        "my_print() # exibe 'my default message'"
      ],
      "metadata": {
        "colab": {
          "base_uri": "https://localhost:8080/"
        },
        "id": "WdalKMm5Uhhe",
        "outputId": "d09e13ef-c869-4ca8-c4fc-41347006a944"
      },
      "execution_count": null,
      "outputs": [
        {
          "output_type": "stream",
          "name": "stdout",
          "text": [
            "hello\n",
            "my default message\n"
          ]
        }
      ]
    },
    {
      "cell_type": "code",
      "source": [
        "def subtract(a=0, b=0):\n",
        "    return a - b\n",
        "\n",
        "subtract(10, 5) # é igual a 5\n",
        "subtract(0, 5) # é igual a -5\n",
        "subtract(b=5) # é o mesmo que o anterior"
      ],
      "metadata": {
        "colab": {
          "base_uri": "https://localhost:8080/"
        },
        "id": "E5KacQCgUxgF",
        "outputId": "58f4514e-3099-417f-a481-0d22c4542b3b"
      },
      "execution_count": null,
      "outputs": [
        {
          "output_type": "execute_result",
          "data": {
            "text/plain": [
              "-5"
            ]
          },
          "metadata": {},
          "execution_count": 32
        }
      ]
    },
    {
      "cell_type": "code",
      "source": [
        "integer_list = [1, 2, 3]\n",
        "heterogenous_list = [\"string\", 0.1, True]\n",
        "list_of_lists = [integer_list, heterogenous_list, [] ]\n",
        "\n",
        "list_lenght = len(integer_list)\n",
        "print(list_lenght)\n",
        "\n",
        "list_sum = sum(integer_list)\n",
        "print(list_sum)"
      ],
      "metadata": {
        "colab": {
          "base_uri": "https://localhost:8080/"
        },
        "id": "5FXoFC9qVWPh",
        "outputId": "a9ccbae2-fad0-406e-cb02-b857d8ec6289"
      },
      "execution_count": null,
      "outputs": [
        {
          "output_type": "stream",
          "name": "stdout",
          "text": [
            "3\n",
            "6\n"
          ]
        }
      ]
    },
    {
      "cell_type": "code",
      "source": [
        "x = list(range(10)) # é a lista [0, 1, ..., 9]\n",
        "zero = x[0] # é igual a 0, as listas são indexadasa a partir de 0\n",
        "one = x[1] # é igual a 1\n",
        "nine = x[-1] # é igual a 9, 'Pythonic' para o último elemento\n",
        "eight = x[-2] # é igual a 8, 'Pythonic para o anterior ao último elemento\n",
        "x[0] =-1 # agora x é [-1, 1, 2, 3, ..., 9]\n",
        "\n",
        "first_three = x[:3] # [-1,1,2]\n",
        "three_to_end = x[3:] # [3,4,...,9]\n",
        "one_to_four = x[1:5] # [1,2,3,4]\n",
        "last_three = x[-3:] # [7,8,9]\n",
        "without_first_and_last = x[1:-1] # [1,2,...,8]\n",
        "copy_of_x = x[:] # [-1,1,2,...,9]"
      ],
      "metadata": {
        "id": "qWqETyTnh-2L"
      },
      "execution_count": null,
      "outputs": []
    },
    {
      "cell_type": "code",
      "source": [
        "1 in [1,2,3,] # Verdadeiro\n",
        "0 in [1,2,3,] # Falso"
      ],
      "metadata": {
        "colab": {
          "base_uri": "https://localhost:8080/"
        },
        "id": "Ctpq2lONiqgc",
        "outputId": "266d31d3-06ee-43b9-a1ca-6e196a127243"
      },
      "execution_count": null,
      "outputs": [
        {
          "output_type": "execute_result",
          "data": {
            "text/plain": [
              "False"
            ]
          },
          "metadata": {},
          "execution_count": 35
        }
      ]
    },
    {
      "cell_type": "code",
      "source": [
        "x = [1,2,3]\n",
        "y = x + [4,5,6] # y é [1,2,3,4,5,6]\n",
        "x.extend([4,5,6]) # x é [1,2,3,4,5,6]"
      ],
      "metadata": {
        "id": "iEBlJyKillV8"
      },
      "execution_count": null,
      "outputs": []
    },
    {
      "cell_type": "code",
      "source": [
        "x = [1,2,3]\n",
        "x.append(0) # x é [1,2,3,0]\n",
        "y = x[-1] # y é 0\n",
        "z = len(x) # é igual a 4\n",
        "\n",
        "x,y = [1,2]  # agora x é 1, y é 2\n",
        "_,y = [1,2] # agora y == 2, não se preocupou com o primeiro elemento"
      ],
      "metadata": {
        "id": "Sdg4flo2lzVU"
      },
      "execution_count": null,
      "outputs": []
    },
    {
      "cell_type": "code",
      "source": [
        "my_list = [1,2,3]\n",
        "my_tuple = (1,2,3)\n",
        "other_tuple = 1,2,3\n",
        "my_list[1] = 3 # my_list agora é [1,3]\n",
        "try:\n",
        "    my_tuple[1] = 3\n",
        "except TypeError:\n",
        "    print(\"cannot modify a tuple\")"
      ],
      "metadata": {
        "colab": {
          "base_uri": "https://localhost:8080/"
        },
        "id": "wa0q0NThl3U8",
        "outputId": "a784fa4e-27a2-4666-f9ee-e22e74399b59"
      },
      "execution_count": null,
      "outputs": [
        {
          "output_type": "stream",
          "name": "stdout",
          "text": [
            "cannot modify a tuple\n"
          ]
        }
      ]
    },
    {
      "cell_type": "code",
      "source": [
        "def sum_and_product (x,y):\n",
        "    return (x+y), (x*y)\n",
        "\n",
        "sp = sum_and_product(2,3)\n",
        "s, p = sum_and_product(5,10)\n",
        "print(sp, s, p)"
      ],
      "metadata": {
        "colab": {
          "base_uri": "https://localhost:8080/"
        },
        "id": "i4CXOubFpWl2",
        "outputId": "9d832423-e6ce-48e2-8304-fac8b98af658"
      },
      "execution_count": null,
      "outputs": [
        {
          "output_type": "stream",
          "name": "stdout",
          "text": [
            "(5, 6) 15 50\n"
          ]
        }
      ]
    },
    {
      "cell_type": "code",
      "source": [
        "x, y = 1, 2 # x é 1 e y é 2\n",
        "x,y = y,x # agora x é 2 e y é 1"
      ],
      "metadata": {
        "id": "8gSpBbMhp3pN"
      },
      "execution_count": null,
      "outputs": []
    },
    {
      "cell_type": "code",
      "source": [
        "empty_dict = {}\n",
        "empty_dict2 = dict()\n",
        "grades = { \"Joel\" : 80, \"Tim\" : 95 } # dicionário literal\n",
        "joels_grade\t=\tgrades[\"Joel\"] # é igual a 80\n",
        "try:\n",
        "    kates_grade = grades[\"Kate\"]\n",
        "except KeyError:\n",
        "    print(\"no grade for Kate!\")\n",
        "\n",
        "joel_has_grade = \"joel\" in grades # True\n",
        "kate_has_grade = \"kate\" in grades # False\n",
        "\n",
        "grades[\"Tim\"] = 99 # substitui o antigo valor\n",
        "grades[\"Kate\"] = 100 # adiciona uma terceira entrada\n",
        "num_students = len(grades) # é igual a 3"
      ],
      "metadata": {
        "colab": {
          "base_uri": "https://localhost:8080/"
        },
        "id": "_xEypmAKqHoV",
        "outputId": "b4a93cb6-8a37-4f34-c21c-3478fc1dae22"
      },
      "execution_count": null,
      "outputs": [
        {
          "output_type": "stream",
          "name": "stdout",
          "text": [
            "no grade for Kate!\n"
          ]
        }
      ]
    },
    {
      "cell_type": "code",
      "source": [
        "tweet\t=\t{\n",
        "    \"user\"\t:\t\"joelgrus\",\n",
        "    \"text\"\t:\t\"Data\tScience\tis\tAwesome\",\n",
        "    \"retweet_count\"\t:\t100,\n",
        "    \"hashtags\"\t:\t[\"#data\",\t\"#science\",\t\"#datascience\",\t\"#awesome\",\t\"#yolo\"]\n",
        "}\n",
        "\n",
        "tweet_keys = tweet.keys() # lista de chaves [user, text, retweet_count, hashtags]\n",
        "tweet_values = tweet.values() # lista de valores\n",
        "tweet_items = tweet.items() # lista de tuplas (chave, valor)\n",
        "\n",
        "\"user\" in tweet_keys # True, mas usa list in, mais lento\n",
        "\"user\" in tweet # Mais Pythonic, usa dict in, mais rápido\n",
        "\"joelgrus\" in tweet_values # True"
      ],
      "metadata": {
        "colab": {
          "base_uri": "https://localhost:8080/"
        },
        "id": "hqmEnIk3qtDd",
        "outputId": "7bf2b370-68ea-4135-8d26-07d2bf0308d1"
      },
      "execution_count": null,
      "outputs": [
        {
          "output_type": "execute_result",
          "data": {
            "text/plain": [
              "True"
            ]
          },
          "metadata": {},
          "execution_count": 42
        }
      ]
    },
    {
      "cell_type": "code",
      "source": [
        "from collections import defaultdict\n",
        "\n",
        "document = {}\n",
        "\n",
        "word_counts = defaultdict(int) # int() produz 0\n",
        "for word in document:\n",
        "    word_counts[word] += 1\n",
        "\n",
        "dd_list = defaultdict(list) # list() produz uma lista vazia\n",
        "dd_list[2].append(1) # agora dd_list contém {2:[1]}\n",
        "dd_dict = defaultdict(dict) # dict() produz um dicionário vazio\n",
        "dd_dict[\"Joel\"][\"City\"] = \"Seattle\" # { \"Joel\" : {\"City\": \"Seattle\"}}\n",
        "dd_pair = defaultdict(lambda: [0,0]) # [0,0] produz uma lista com dois zeros\n",
        "dd_pair[2][1] = 1 # agora dd_pair contém {2:[0,1]}\n",
        "\n",
        "c\t=\tCounter([0,\t1,\t2,\t0]) #\tc\té\t(basicamente)\t{\t0\t:\t2,\t1\t:\t1,\t2\t:\t1\t}\n",
        "word_counts\t=\tCounter(document)\n",
        "\n",
        "#\timprime\tas\tdez\tpalavas\tmais\tcomuns\te\tsuas\tcontas\n",
        "for\tword,\tcount\tin\tword_counts.most_common(10):\n",
        "  print\t(word,\tcount)"
      ],
      "metadata": {
        "id": "MrtyhilVrnJV"
      },
      "execution_count": null,
      "outputs": []
    },
    {
      "cell_type": "markdown",
      "source": [
        "# Conjuntos (set)"
      ],
      "metadata": {
        "id": "pLX2wOSt6E1E"
      }
    },
    {
      "cell_type": "code",
      "source": [
        "s = set()\n",
        "s.add(1) # s agora é { 1 }\n",
        "s.add(2) # s agora é { 1,2 }\n",
        "s.add(2) # s não muda\n",
        "x = len(s) # é igual a 2\n",
        "y = 2 in s # é igual a True\n",
        "z = 3 in s # é igual a False\n",
        "\n",
        "\n",
        "stopwords_list\t=\t[\"a\",\"an\",\"at\"]\t+\t[\"yet\",\t\"you\"]\n",
        "\"zip\" in stopwords_list # Falso, mas tem que verificar todos elementos\n",
        "stopwords_set = set(stopwords_list)\n",
        "\"zip\" in stopwords_set # muito rápido para verificar\n",
        "\n",
        "item_list = [1,2,3,1,2,3]\n",
        "num_items = len(item_list) # 6\n",
        "item_set = set(item_list) # {1,2,3}\n",
        "num_distinct_items = len(item_set) # 3\n",
        "distinct_item_list = list(item_set) # [1,2,3]\n"
      ],
      "metadata": {
        "id": "FgaDotghxchN"
      },
      "execution_count": null,
      "outputs": []
    },
    {
      "cell_type": "markdown",
      "source": [
        "# Controle de Fluxo"
      ],
      "metadata": {
        "id": "Q6nt033I59ML"
      }
    },
    {
      "cell_type": "code",
      "source": [
        "if 1 > 2:\n",
        "    message = \"if only 1 were greater than two...\"\n",
        "elif 1 > 3:\n",
        "    message = \"elif stands for 'else if'\"\n",
        "else:\n",
        "    message = \"when all else fails use else (if you want to)\"\n",
        "\n",
        "parity = \"even\" if x % 2 == 0 else \"odd\"\n",
        "\n",
        "x = 0\n",
        "while x < 10:\n",
        "    print(x, \"is less than 10\")\n",
        "    x += 1"
      ],
      "metadata": {
        "colab": {
          "base_uri": "https://localhost:8080/"
        },
        "id": "JqA_-60P0nVq",
        "outputId": "ac324f1e-fbf7-45d2-93f1-81c71cf63df9"
      },
      "execution_count": null,
      "outputs": [
        {
          "output_type": "stream",
          "name": "stdout",
          "text": [
            "0 is less than 10\n",
            "1 is less than 10\n",
            "2 is less than 10\n",
            "3 is less than 10\n",
            "4 is less than 10\n",
            "5 is less than 10\n",
            "6 is less than 10\n",
            "7 is less than 10\n",
            "8 is less than 10\n",
            "9 is less than 10\n"
          ]
        }
      ]
    },
    {
      "cell_type": "markdown",
      "source": [
        "# Ordenação"
      ],
      "metadata": {
        "id": "i2vmoCP154rD"
      }
    },
    {
      "cell_type": "code",
      "source": [
        "x = [1,4,2,3]\n",
        "y = sorted(x) # não altera a ordem de x\n",
        "x.sort() # altera a ordem de x, agora é [1,2,3,4]\n",
        "\n",
        "# Por padrão, 'sort' e 'sorted' organizam a lista baseado do menor para o maior\n",
        "\n",
        "# Para inverter a ordem, pode ser utilizado o 'reverse = True'\n",
        "x = [4,1,2,3]\n",
        "x.sort(reverse=True) # agora é [4,3,2,1]\n",
        "\n",
        "# Organiza as palavras e contagens da mais alta para a mais baixa\n",
        "word_counts = {}\n",
        "wc = sorted(word_counts.items(), key=lambda x: x[1], reverse=True)"
      ],
      "metadata": {
        "id": "Y5Wz3st714ty"
      },
      "execution_count": null,
      "outputs": []
    },
    {
      "cell_type": "markdown",
      "source": [
        "# Compreensões de Lista"
      ],
      "metadata": {
        "id": "xIegqN4j50Ak"
      }
    },
    {
      "cell_type": "code",
      "source": [
        "even_numbers = [x for x in range(5) if x % 2 == 0] # [0,2,4]\n",
        "squares = [ x * x for x in range(5)] # [0,1,4,9,16]\n",
        "even_squares = [x * x for x in even_numbers] # [0,4,16]\n",
        "square_dict = {x : x * x for x in range(5)} # { 0:0, 1:1, 2:4, 3:9, 4:16 }\n",
        "square_set = { x * x for x in [1, -1]} # { 1 }\n",
        "zeroes = [0 for _ in even_numbers] # [0,0,0]\n",
        "pairs = [(x,y)\n",
        "         for x in range(10)\n",
        "         for y in range(10)] # 100 pairs (0,0)(0,1)...(9,8),(9,9)\n",
        "increasing_pairs = [(x,y) # somente pares com x < y\n",
        "                    for x in range(10) # range (lo, hi) é igual a\n",
        "                    for y in range(x+1, 10)] # [lo, lo + 1,..., hi -1]"
      ],
      "metadata": {
        "id": "WCn89zyP6mbC"
      },
      "execution_count": null,
      "outputs": []
    },
    {
      "cell_type": "markdown",
      "source": [
        "# Geradores e Iteradores"
      ],
      "metadata": {
        "id": "s7WBwHgw5vBJ"
      }
    },
    {
      "cell_type": "code",
      "source": [
        "def lazy_range(n):\n",
        "    # Uma versão preguiçosa de range\n",
        "    i = 0\n",
        "    while i < n:\n",
        "        yield i\n",
        "        i += 1\n",
        "\n",
        "for i in lazy_range(10):\n",
        "    print(i)\n",
        "\n",
        "def natural_numbers(): # Embora não deve iterar sobre ela sem usar alguma lógica de 'break'\n",
        "    # retorna 1,2,3,...\n",
        "    n = 1\n",
        "    while True:\n",
        "        yield n\n",
        "        n += 1\n",
        "\n",
        "# Segunda forma de criar geradores, usando for dentro de parenteses\n",
        "lazy_evens_below_20 = (i for i in lazy_range(20) if i % 2 == 0)"
      ],
      "metadata": {
        "colab": {
          "base_uri": "https://localhost:8080/"
        },
        "id": "MEAdIq_J9NiI",
        "outputId": "aa829db0-5bf2-4340-cc60-ebfb3b51ba34"
      },
      "execution_count": null,
      "outputs": [
        {
          "output_type": "stream",
          "name": "stdout",
          "text": [
            "0\n",
            "1\n",
            "2\n",
            "3\n",
            "4\n",
            "5\n",
            "6\n",
            "7\n",
            "8\n",
            "9\n"
          ]
        }
      ]
    },
    {
      "cell_type": "markdown",
      "source": [
        "# Aleatoriedade"
      ],
      "metadata": {
        "id": "LDXT10iY5rDs"
      }
    },
    {
      "cell_type": "code",
      "source": [
        "import random\n",
        "\n",
        "four_uniform_randoms = [random.random() for _ in range(4)]\n",
        "four_uniform_randoms # random.random() produz numeros uniformes entre 0 e 1\n",
        "\n",
        "random.seed(10) # configura seed para 10\n",
        "print (random.random()) # 0.5714025946899135\n",
        "random.seed(10) # reinicia seed para 10\n",
        "print (random.random()) # 0.5714025946899135 novamente\n",
        "\n",
        "random.randrange(10) # escolhe aletoriamente de range(10) = [0,1,...,9]\n",
        "random.randrange(3,6) # escolhe aleatoriamente de range(3,6) = [3,4,5]\n",
        "\n",
        "up_to_ten = (list(range(10)))\n",
        "random.shuffle(up_to_ten) # embaralha a lista\n",
        "\n",
        "my_best_friend = random.choice([\"Alice\"\t,\"Bob\"\t,\"Charlie\"])\n",
        "my_best_friend # escolha aleatória dentre os elementos da lista\n",
        "\n",
        "lottery_numbers = range(60)\n",
        "winning_numbers = random.sample(lottery_numbers, 6)\n",
        "winning_numbers # 6 números aleatórios sem repetição\n",
        "\n",
        "four_with_replacement = [random.choice(range(10)) for _ in range(4)]\n",
        "four_with_replacement # 4 números aleatórios com repetição"
      ],
      "metadata": {
        "colab": {
          "base_uri": "https://localhost:8080/"
        },
        "id": "Zt-9EYKyAfMR",
        "outputId": "d519e7e3-2ff7-4cbe-8575-212c3ac7208a"
      },
      "execution_count": null,
      "outputs": [
        {
          "output_type": "stream",
          "name": "stdout",
          "text": [
            "0.5714025946899135\n",
            "0.5714025946899135\n"
          ]
        },
        {
          "output_type": "execute_result",
          "data": {
            "text/plain": [
              "[2, 9, 5, 6]"
            ]
          },
          "metadata": {},
          "execution_count": 49
        }
      ]
    },
    {
      "cell_type": "markdown",
      "source": [
        "# Expressões Regulares"
      ],
      "metadata": {
        "id": "97gIbWRQ5nTA"
      }
    },
    {
      "cell_type": "code",
      "source": [
        "# Expressões regulares\n",
        "\n",
        "import re\n",
        "\n",
        "print (all([ # Todos são verdadeiros porque\n",
        "    not re.match(\"a\", \"cat\"), # 'cat' não começa com 'a'\n",
        "    re.search(\"a\", \"cat\"), # 'cat' possui 'a'\n",
        "    not re.search(\"c\", \"dog\"), # 'dog' não possui um 'c'\n",
        "    3 == len(re.split(\"[ab]\", \"carbs\")), # divide em a ou b para ['c','r','s']\n",
        "    \"R-D-\" == re.sub(\"[0-9]\", \"-\" , \"R2D2\") # substitui todos os dígitos por traços\n",
        "])) # Imprime True"
      ],
      "metadata": {
        "colab": {
          "base_uri": "https://localhost:8080/"
        },
        "id": "2GpkoGYmlMq-",
        "outputId": "d63e2f44-24a5-40eb-ede4-2d356656885f"
      },
      "execution_count": null,
      "outputs": [
        {
          "output_type": "stream",
          "name": "stdout",
          "text": [
            "True\n"
          ]
        }
      ]
    },
    {
      "cell_type": "markdown",
      "source": [
        "# Programação Orientada ao Objeto (POO)"
      ],
      "metadata": {
        "id": "U8XpYHU95gwR"
      }
    },
    {
      "cell_type": "code",
      "source": [
        "# por convenção, damos nomes PascalCase às classes\n",
        "class Set:\n",
        "    # estas sçai as funções de membro\n",
        "    # cada uma pega um parâmetro \"self\" (outra convenção)\n",
        "    # que se refere ao objeto set sendo usado em questão\n",
        "    def __init__(self, values=None):\n",
        "        \"\"\"Estre é o construtor.\n",
        "        Ele é chamado quando você cria um novo Set.\n",
        "        Você deveria usá-lo como\n",
        "        s1 = Set() # Conjunto Vazio\n",
        "        s2 = Set([1,2,2,3]) # Inicializa com valores\"\"\"\n",
        "        self.dict = {} # Cada instância de set possui sua própria propriedade dict que é o que usaremos para rastrear as associações\n",
        "        if values is not None:\n",
        "            for value in values:\n",
        "                self.add(value)\n",
        "\n",
        "    def __repr__(self): # Representação do objeto\n",
        "        return \"Set: \" + str(self.dict.keys())\n",
        "\n",
        "    # Representaremos a associação como uma chave em self.dict com valor True\n",
        "    def add(self, value):\n",
        "        self.dict[value] = True\n",
        "\n",
        "    # Valor está no Set se ele for uma chave no dicionário\n",
        "    def contains(self, value):\n",
        "        return value in self.dict\n",
        "\n",
        "    # Remove um valor do Set\n",
        "    def remove(self, value):\n",
        "        del self.dict[value]\n",
        "\n",
        "# Poderiamos usar da seguinte forma\n",
        "s = Set([1,2,3])\n",
        "s.add(4)\n",
        "print (s.contains(4)) # True\n",
        "s.remove(3)\n",
        "print(s.contains(3)) # False"
      ],
      "metadata": {
        "colab": {
          "base_uri": "https://localhost:8080/"
        },
        "id": "ak9yJ-S1u-eR",
        "outputId": "a2a87d98-cee0-466e-9b5d-a676f35ac6d7"
      },
      "execution_count": null,
      "outputs": [
        {
          "output_type": "stream",
          "name": "stdout",
          "text": [
            "True\n",
            "False\n"
          ]
        }
      ]
    },
    {
      "cell_type": "markdown",
      "source": [
        "# Ferramentas Funcionais"
      ],
      "metadata": {
        "id": "Y6_L_tCf5cgJ"
      }
    },
    {
      "cell_type": "code",
      "source": [
        "# Ferramentas Funcionais\n",
        "\n",
        "def exp(base, power): # uma função com duas variaveis\n",
        "    return base ** power\n",
        "\n",
        "def two_to_the(power): # uma função com uma variavel\n",
        "    return exp(2, power)\n",
        "\n",
        "two_to_the(3) # é igual a 8\n",
        "\n",
        "# uma abordagem diferente é usar functools.partial\n",
        "from functools import partial, reduce\n",
        "two_to_the = partial(exp, 2) # agora é uma função de uma variável\n",
        "two_to_the(3) # é igual a 8\n",
        "\n",
        "# também é possivel usar partial para preencher os argumentos que virão depois se for especificado seus nomes\n",
        "square_of = partial(exp, power=2)\n",
        "square_of(3) # é igual a 9\n",
        "\n",
        "# adicionar argumentos no meio da função deixa o código bagunçado, melhor evitar\n",
        "# ocasionalmente usaremos 'map', 'reduce' e 'filter', que fornecem alternativas funcionais para compreensão de lista\n",
        "\n",
        "def double(x):\n",
        "    return x * 2\n",
        "\n",
        "xs = [1,2,3,4]\n",
        "twice_xs = [double(x) for x in xs] # [2,4,6,8]\n",
        "twice_xs = map(double, xs) # é a mesma coisa\n",
        "list_doubler = partial(map, double) # função que duplica a lista\n",
        "twice_xs = list_doubler(xs) # novamente [2,4,6,8]\n",
        "\n",
        "# é possivel usar 'map' com funções de multiplos argumentos se fornecer multiplas listas\n",
        "def multiply(x,y): return x * y\n",
        "products = map(multiply, [1,2], [4,5]) # [4,10]\n",
        "\n",
        "# igualmente 'filter' faz o trabalho de uma compeensão de lista 'if'\n",
        "def is_even(x):\n",
        "    # True se x for par, False se x for impar\n",
        "    return x % 2 == 0\n",
        "\n",
        "x_evens = [x for x in xs if is_even(x)] # [2,4]\n",
        "list_product = partial(reduce, multiply) # função que reduz uma lista\n",
        "x_product = list_product(xs) # novamente = 24"
      ],
      "metadata": {
        "id": "Myf5YyHMywBq"
      },
      "execution_count": null,
      "outputs": []
    },
    {
      "cell_type": "markdown",
      "source": [
        "# Enumeração (enumerate)"
      ],
      "metadata": {
        "id": "Y1TNaMcr5TBp"
      }
    },
    {
      "cell_type": "code",
      "source": [
        "documents = {}\n",
        "# não é Pythonic\n",
        "for i in range(len(documents)):\n",
        "    document = documents[i]\n",
        "    print(i, document)\n",
        "\n",
        "# também não é Pythonic\n",
        "i = 0\n",
        "for document in documents:\n",
        "    print(i, document)\n",
        "    i += 1\n",
        "\n",
        "# A solução Pythonic é 'enumerate' (enumerar), que produz tuplas (index, element)\n",
        "for i, document in enumerate(documents):\n",
        "    print(i, document)\n",
        "\n",
        "# da mesma forma, se quisermos os indices\n",
        "for i in range(len(documents)): print(i) # não é Pythonic\n",
        "for i, _ in enumerate(documents): print(i) # é Pythonic"
      ],
      "metadata": {
        "id": "PYd7X37h0bNT"
      },
      "execution_count": null,
      "outputs": []
    },
    {
      "cell_type": "markdown",
      "source": [
        "# Descompactação de Zip e Argumentos"
      ],
      "metadata": {
        "id": "CqblAMTw5KtJ"
      }
    },
    {
      "cell_type": "code",
      "source": [
        "# zip transforma listas múltiplas em uma única lista de tuplas de elementos correspondentes\n",
        "list1 = ['a','b','c']\n",
        "list2 = [1,2,3]\n",
        "zip(list1, list2) # é [('a',1), ('b',2), ('c',3)]\n",
        "# se as listas são de tamanhos diferentes, 'zip' para assim que a primeira lista acabar\n",
        "\n",
        "pairs = [('a',1), ('b', 2), ('c',3)]\n",
        "letters, numbers = zip(*pairs)\n",
        "\n",
        "# é possivel usar a decompatação de argumento com qualquer função\n",
        "def add(a,b): return a + b\n",
        "add(1,2) # retorna 3\n",
        "#add([1,2]) # TypeError!\n",
        "add(*[1,2]) # retorna 3"
      ],
      "metadata": {
        "colab": {
          "base_uri": "https://localhost:8080/"
        },
        "id": "rKfHqlty4AnE",
        "outputId": "fe1837cf-0839-4587-ebb6-ba053bc6557f"
      },
      "execution_count": null,
      "outputs": [
        {
          "output_type": "execute_result",
          "data": {
            "text/plain": [
              "3"
            ]
          },
          "metadata": {},
          "execution_count": 54
        }
      ]
    },
    {
      "cell_type": "markdown",
      "source": [
        "# Args e Kwargs\n"
      ],
      "metadata": {
        "id": "BgVLlXH75EVg"
      }
    },
    {
      "cell_type": "code",
      "source": [
        "\"\"\"Digamos que queremos criar\tuma\tfunção de ordem\talta que tem como\tentrada\n",
        "uma\tfunção f e retorna uma função\tnova que retorna duas vezes\to\tvalor\tde f\n",
        "para qualquer entrada\"\"\"\n",
        "def doubler(f):\n",
        "    def g(x):\n",
        "        return 2 * f(x)\n",
        "    return g\n",
        "\n",
        "# Isso funciona em alguns casos\n",
        "def f1(x):\n",
        "    return x + 1\n",
        "\n",
        "g = doubler(f1)\n",
        "print(g(3)) # 8 (==(3 + 1) * 2)\n",
        "print(g(-1)) # 0 (==(-1 + 1) * 2)\n",
        "\n",
        "# no entanto, ele falha com funções que possuem mais de um unico argumento\n",
        "def f2(x,y):\n",
        "    return x + y\n",
        "\n",
        "g = doubler(f2)\n",
        "# print(g(1,2)) # TypeError: g() pega exatamente 1 argumento (2 dados)\n",
        "\n",
        "def magic(*args, **kwargs):\n",
        "    print(\"unnamed args:\", args)\n",
        "    print(\"keyword args:\", kwargs)\n",
        "\n",
        "magic(1, 2, key=\"word\", key2=\"word2\")\n",
        "# unnamed args: (1, 2)\n",
        "# keyword args: {'key': 'word', 'key2': 'word2'}\n",
        "\n",
        "# em funções como essa, 'args' é uma tupla dos seus argumentos sem nome\n",
        "# e 'kwargs' é um dicionário dos seus argumentos com nome\n",
        "\n",
        "# Funciona de forma contrária também. usando uma list (ou tuple) e dict para fornecer argumentos para uma função\n",
        "def other_way_magic(x, y, z):\n",
        "    return x + y + z\n",
        "\n",
        "x_y_list = [1,2]\n",
        "z_dict = { \"z\" : 3 }\n",
        "print(other_way_magic(*x_y_list, **z_dict)) # 6\n",
        "\n",
        "def doubler_correct(f):\n",
        "    # funciona não importa que tipo de entradas f espera\n",
        "    def g(*args, **kwargs):\n",
        "        # quaisquer argumentos com os quais g é fornecido, os passa para f\n",
        "        return 2 * f(*args, **kwargs)\n",
        "    return g\n",
        "\n",
        "g = doubler_correct(f2)\n",
        "print(g(1,2)) # 6"
      ],
      "metadata": {
        "colab": {
          "base_uri": "https://localhost:8080/"
        },
        "id": "xvM4NRUV4rak",
        "outputId": "e854b78b-1f70-4633-d454-9ef09ebebcdb"
      },
      "execution_count": null,
      "outputs": [
        {
          "output_type": "stream",
          "name": "stdout",
          "text": [
            "8\n",
            "0\n",
            "unnamed args: (1, 2)\n",
            "keyword args: {'key': 'word', 'key2': 'word2'}\n",
            "6\n",
            "6\n"
          ]
        }
      ]
    },
    {
      "cell_type": "markdown",
      "source": [
        "# Matplotlib"
      ],
      "metadata": {
        "id": "dMAKb-s948WR"
      }
    },
    {
      "cell_type": "code",
      "source": [
        "from matplotlib import pyplot as plt\n",
        "\n",
        "years = [1950,1960,1970,1980,1990,2000,2010]\n",
        "gdp = [300.2,543.3,1075.9,2862.5,5979.6,10289.7,14958.3]\n",
        "\n",
        "# cria um gráfico de linha, anos no eixo x, gdp no eixo y\n",
        "plt.plot(years, gdp, color='green', marker='o', linestyle='solid')\n",
        "plt.title('GDP Nominal') # adiciona um título\n",
        "plt.ylabel('Bilhões de $') # adiciona um selo no eixo y\n",
        "plt.show()"
      ],
      "metadata": {
        "colab": {
          "base_uri": "https://localhost:8080/",
          "height": 452
        },
        "id": "StKNreat8oCi",
        "outputId": "500c28a2-f0d1-4072-8a19-57f1cdb8e2b4"
      },
      "execution_count": null,
      "outputs": [
        {
          "output_type": "display_data",
          "data": {
            "text/plain": [
              "<Figure size 640x480 with 1 Axes>"
            ],
            "image/png": "[encoded data removed]"
          },
          "metadata": {}
        }
      ]
    },
    {
      "cell_type": "code",
      "source": [
        "movies = [\"Annie hall\", \"Ben-Hur\", \"Casablanca\", \"Gandhi\", \"West Side Story\"]\n",
        "num_oscars = [5,11,3,8,10]\n",
        "\n",
        "# barras possuem o tamanho padrão de 0.8\n",
        "# adicionado o valor de 0.1 às coordenadas à esquerda para que cada barra seja centralizada\n",
        "xs = [i + 0.1 for i, _ in enumerate(movies)]\n",
        "\n",
        "# as barras do gráfico com as coordenadas x à esquerda [xs], altura [num_oscars]\n",
        "plt.bar(xs, num_oscars)\n",
        "\n",
        "plt.ylabel(\"# de Premiações\")\n",
        "plt.title(\"Meus Filmes Favoritos\")\n",
        "\n",
        "# nomeia o eixo x com nomes de filmes na barra central\n",
        "plt.xticks(xs, movies)\n",
        "plt.show()"
      ],
      "metadata": {
        "id": "8jCWdtJBEfuY",
        "colab": {
          "base_uri": "https://localhost:8080/",
          "height": 452
        },
        "outputId": "ef4f75e2-448d-4046-b686-51fefa7ab374"
      },
      "execution_count": null,
      "outputs": [
        {
          "output_type": "display_data",
          "data": {
            "text/plain": [
              "<Figure size 640x480 with 1 Axes>"
            ],
            "image/png": "[encoded data removed]"
          },
          "metadata": {}
        }
      ]
    },
    {
      "cell_type": "code",
      "source": [
        "grades = [83,95,91,87,70,0,85,82,100,67,73,77,0]\n",
        "decile = lambda grade: grade // 10 * 10\n",
        "histogram = Counter(decile(grade) for grade in grades)\n",
        "\n",
        "plt.bar([x - 0.1 for x in histogram.keys()], # move cada barra para a esquerda em 0.1\n",
        "          histogram.values(),              # dá para cada barra sua altura correta\n",
        "          8)                               # dá para cada barra a largura de 8\n",
        "\n",
        "plt.axis([-5, 105, 0, 5]) # eixo x de -5 até 105; eixo y de 0 até 5\n",
        "plt.xticks([10 * i for i in range(11)]) # rótulos do eixo x em 0,10,...,100\n",
        "plt.xlabel(\"Decil\")\n",
        "plt.ylabel(\"# de Alunos\")\n",
        "plt.title(\"Distribuição das Notas do Teste 1\")\n",
        "plt.show()"
      ],
      "metadata": {
        "colab": {
          "base_uri": "https://localhost:8080/",
          "height": 472
        },
        "id": "mH5_aH0_6pU9",
        "outputId": "b71726ed-359e-4f3b-eae9-65a5622dac23"
      },
      "execution_count": null,
      "outputs": [
        {
          "output_type": "display_data",
          "data": {
            "text/plain": [
              "<Figure size 640x480 with 1 Axes>"
            ],
            "image/png": "[encoded data removed]"
          },
          "metadata": {}
        }
      ]
    },
    {
      "cell_type": "code",
      "source": [
        "mentions = [500, 505]\n",
        "years = [2013, 2014]\n",
        "\n",
        "plt.bar(years, mentions, 0.8)\n",
        "plt.xticks(years)\n",
        "plt.ylabel(\"# de vezes que ouvimos alguém dizer 'data science'\")\n",
        "\n",
        "# se isso não for feito, matplotlib nomeará o eixo x de 0, 1\n",
        "\n",
        "# e então, adiciona a +2.013e3 para fora do canto(matplotlib feio!)\n",
        "plt.ticklabel_format(useOffset=False)\n",
        "\n",
        "\"\"\"enganar o eixo\ty\tmostra apenas\ta\tparte\tacima\tde 500\n",
        "plt.axis([2012.5,2014.5,499,506])\n",
        "plt.title('Olhe\to\t\"Grande\" Aumento!')\n",
        "plt.show()\"\"\"\n",
        "\n",
        "# usando eixos mais sensatos, agora parece menos impressionante\n",
        "plt.axis([2012.5,2014.5,0,550])\n",
        "plt.title(\"Não tão grande agora\")\n",
        "plt.show()"
      ],
      "metadata": {
        "colab": {
          "base_uri": "https://localhost:8080/",
          "height": 452
        },
        "id": "SxvYE4b78YRd",
        "outputId": "e9a1406e-4589-426b-caea-80b082ae3852"
      },
      "execution_count": null,
      "outputs": [
        {
          "output_type": "display_data",
          "data": {
            "text/plain": [
              "<Figure size 640x480 with 1 Axes>"
            ],
            "image/png": "[encoded data removed]"
          },
          "metadata": {}
        }
      ]
    },
    {
      "cell_type": "code",
      "source": [
        "variance = [1,2,4,8,16,32,64,128,256]\n",
        "bias_squared = [256,128,64,32,16,8,4,2,1]\n",
        "total_error = [x + y for x, y in zip(variance, bias_squared)]\n",
        "xs = [i for i, _ in enumerate(variance)]\n",
        "\n",
        "# podemos fazer multiplas chamadas para plt.plot para mostrar múltiplas séries no mesmo gráfico\n",
        "plt.plot(xs, variance, 'g-', label='variância') # linha verde sólia\n",
        "plt.plot(xs, bias_squared, 'r-', label='polaização^2') # linha com linha de ponto tracejado vermelho\n",
        "plt.plot(xs, total_error, 'b:', label='erro total') # linha com pontillhado azul\n",
        "\n",
        "# porque atribuimos rótulos para cada série, poemos obter uma legenda gratuita\n",
        "plt.legend(loc=9) # loc=9 significa \"top center\"\n",
        "plt.xlabel(\"Complexidade do modelo\")\n",
        "plt.title(\"Compromisso entre Polarização e Variância\")\n",
        "plt.show()"
      ],
      "metadata": {
        "colab": {
          "base_uri": "https://localhost:8080/",
          "height": 472
        },
        "id": "zu7hX9xl-Mtu",
        "outputId": "8baa60e7-836c-454f-c802-49162c8597b3"
      },
      "execution_count": null,
      "outputs": [
        {
          "output_type": "display_data",
          "data": {
            "text/plain": [
              "<Figure size 640x480 with 1 Axes>"
            ],
            "image/png": "[encoded data removed]"
          },
          "metadata": {}
        }
      ]
    },
    {
      "cell_type": "code",
      "source": [
        "friends = [70,65,72,63,71,64,60,64,67]\n",
        "minutes = [175,170,205,120,220,130,105,145,190]\n",
        "labels = ['a', 'b', 'c', 'd', 'e', 'f', 'g', 'h', 'i']\n",
        "\n",
        "plt.scatter(friends, minutes)\n",
        "\n",
        "# nomeia cada posição\n",
        "for label, friend_count, minute_count in zip(labels, friends, minutes):\n",
        "    plt.annotate(label,\n",
        "                 xy=(friend_count, minute_count), # coloca o rótulo com sua posição\n",
        "                 xytext=(5,-5), # mas compensa um pouco\n",
        "                 textcoords='offset points')\n",
        "\n",
        "plt.title(\"Minutos Diários vs. Número de Amigos\")\n",
        "plt.xlabel(\"# de amigos\")\n",
        "plt.ylabel(\"Minutos diários passados no site\")\n",
        "plt.show()"
      ],
      "metadata": {
        "id": "CKHirtZTAMkG",
        "colab": {
          "base_uri": "https://localhost:8080/",
          "height": 472
        },
        "outputId": "9d0cdb4c-f186-44e4-c80a-ea3bdfb35116"
      },
      "execution_count": null,
      "outputs": [
        {
          "output_type": "display_data",
          "data": {
            "text/plain": [
              "<Figure size 640x480 with 1 Axes>"
            ],
            "image/png": "[encoded data removed]"
          },
          "metadata": {}
        }
      ]
    },
    {
      "cell_type": "code",
      "source": [
        "test_1_grades = [99,90,85,97,80]\n",
        "test_2_grades = [100,85,60,90,70]\n",
        "\n",
        "plt.scatter(test_1_grades, test_2_grades)\n",
        "plt.title(\"Os eixos não são compatíveis\")\n",
        "plt.xlabel(\"Nota do teste 2\")\n",
        "plt.ylabel(\"Nota do teste 1\")\n",
        "plt.show()"
      ],
      "metadata": {
        "colab": {
          "base_uri": "https://localhost:8080/",
          "height": 472
        },
        "id": "66uf2uuGP9Ew",
        "outputId": "ef0df560-50bb-4c25-9f8e-f150de021824"
      },
      "execution_count": null,
      "outputs": [
        {
          "output_type": "display_data",
          "data": {
            "text/plain": [
              "<Figure size 640x480 with 1 Axes>"
            ],
            "image/png": "[encoded data removed]"
          },
          "metadata": {}
        }
      ]
    },
    {
      "cell_type": "code",
      "source": [
        "test_1_grades = [99,90,85,97,80]\n",
        "test_2_grades = [100,85,60,90,70]\n",
        "\n",
        "plt.scatter(test_1_grades, test_2_grades)\n",
        "plt.axis('equal') # ajustando o eixo de dispersão\n",
        "plt.title(\"Os eixos são compatíveis\")\n",
        "plt.xlabel(\"Nota do teste 2\")\n",
        "plt.ylabel(\"Nota do teste 1\")\n",
        "plt.show()"
      ],
      "metadata": {
        "colab": {
          "base_uri": "https://localhost:8080/",
          "height": 472
        },
        "id": "7YlKwMurRBa4",
        "outputId": "3980d9f2-956c-4feb-8897-af683dce34a8"
      },
      "execution_count": null,
      "outputs": [
        {
          "output_type": "display_data",
          "data": {
            "text/plain": [
              "<Figure size 640x480 with 1 Axes>"
            ],
            "image/png": "[encoded data removed]"
          },
          "metadata": {}
        }
      ]
    },
    {
      "cell_type": "markdown",
      "source": [
        "# Vetores\n"
      ],
      "metadata": {
        "id": "kWuqe4bu4xac"
      }
    },
    {
      "cell_type": "code",
      "source": [
        "# vetores são uma ótima maneira de representar dados numéricos\n",
        "\n",
        "# se tiver altura, peso e idade de uma grande quantidade de pessoas,\n",
        "# pode tratar os dados como vetores tridimensionais (height, weight, age)\n",
        "\n",
        "# se tiver uma turma com quatro testes, pode tratar as notas dos alunos como\n",
        "# vetores quadridimensionais (exam1, exam2, exam3, exam4)\n",
        "\n",
        "# A abordagem mais simples é representar vetores como lista de números.\n",
        "# Uma lista de 3 números corresponde a um vetor em um espaço tridimensional\n",
        "# e vice-versa\n",
        "height_weight_age = [ 70, # polegadas,\n",
        "                      170, # quilos,\n",
        "                      40 ] # anos\n",
        "grades = [95, # teste 1\n",
        "          80, # teste 2\n",
        "          75, # teste 3\n",
        "          62] # teste 4\n",
        "\n",
        "# somar dois vetores que são correspondentes\n",
        "def vector_add(v, w):\n",
        "    \"\"\"Soma elementos correspondentes\"\"\"\n",
        "    return [v_i + w_i for v_i, w_i in zip(v,w)]\n",
        "\n",
        "# mesma forma para subtrair dois vetores\n",
        "def vector_subtract(v, w):\n",
        "    return [v_i - w_i for v_i, w_i in zip(v, w)]\n",
        "\n",
        "# adicionar cada vetor correspondente\n",
        "def vector_sum(vectors):\n",
        "    \"\"\"Soma todos os elementos correspondentes\"\"\"\n",
        "    result = vectors[0] # começa com o primeiro vetor\n",
        "    for vector in vectors[1:]: # depois passa por todos os outros\n",
        "        result = vector_add(result, vector) # e os adiciona ao resultado\n",
        "    return result\n",
        "\n",
        "# Estamos apenas reduzindo (reducing) a lista de vetores usando 'vector_add'\n",
        "# ou seja, podemos reescrever de forma reduzida usando funções de alta ordem\n",
        "def vector_sum(vectors):\n",
        "    return reduce(vector_add, vectors)\n",
        "\n",
        "# ou até mesmo\n",
        "vector_sum = partial(reduce, vector_add) # esse é mais esperto do que útil\n",
        "\n",
        "# também é possivel multiplicar um vetor por um escalar\n",
        "def scalar_multiply(c, v):\n",
        "    \"\"\"c é um número, v é um vetor\"\"\"\n",
        "    return [c * v_i for v_i in v]\n",
        "\n",
        "# isso permite que computemos a média de uma lista de vetores (do mesmo tamanho)\n",
        "def vector_mean(vectors):\n",
        "    \"\"\"Calcula a média de uma lista de vetores\"\"\"\n",
        "    n = len(vectors)\n",
        "    return scalar_multiply(1/n, vector_sum(vectors))\n",
        "\n",
        "# uma ferramenta menos obvia é o 'produto escalar (dot product)'\n",
        "def dot(v, w):\n",
        "    \"\"\"v_1 * w_' + ... + v_n * w_n\"\"\"\n",
        "    return sum(v_i * w_i\n",
        "               for v_i, w_i in zip(v, w))\n",
        "\n",
        "# computar a soma dos quadrados de um vetor\n",
        "def sum_of_squares(v):\n",
        "    \"\"\"v_1 * v_1 + ... + v_n * v_n\"\"\"\n",
        "    return dot(v, v)\n",
        "\n",
        "# ou ainda\n",
        "import math\n",
        "\n",
        "def magnitude(v):\n",
        "    return math.sqrt(sum_of_squares(v)) # math.sqrt é a função da raiz quadrada\n",
        "\n",
        "# agora temos todas as peças para computar a distancia entre 2 vetores\n",
        "def squared_distance(v, w):\n",
        "    \"\"\"(v_1 - w_1) ** 2 + ... + (v_n - w_n) ** 2\"\"\"\n",
        "    return sum_of_squares(vector_subtract(v, w))\n",
        "\n",
        "def distance(v, w):\n",
        "    return math.sqrt(squared_distance(v, w))\n",
        "\n",
        "# que fica mais claro se escrevermos como (o equivalente)\n",
        "def distance(v, w):\n",
        "    return magnitude(vector_subtract(v, w))"
      ],
      "metadata": {
        "id": "yZCJAlra40hC"
      },
      "execution_count": null,
      "outputs": []
    },
    {
      "cell_type": "markdown",
      "source": [
        "# Matrizes"
      ],
      "metadata": {
        "id": "aMHElg5B1Sc6"
      }
    },
    {
      "cell_type": "code",
      "source": [
        "\"\"\"matriz é uma coleção de numeros bidimensional.\n",
        "Matrizes são representadas como listas de listas, com cada lista interior\n",
        "representa uma linha da matriz. Por convenção matemática, geralmente\n",
        "é utilizado letras maíusculas para representar matrizes.\"\"\"\n",
        "A = [[1,2,3], # A possui duas linhas e três colunas\n",
        "     [4,5,6]]\n",
        "B = [[1,2], # B possui três linhas e duas colunas\n",
        "     [3,4],\n",
        "     [5,6]]\n",
        "\n",
        "\"\"\"na matemática, a primeira linha da matriz é considera \"linha 1\" e a primeira\n",
        "coluna de \"coluna 1\". Porém, por se tratar de Python que inicia o index em 0,\n",
        "A primeira coluna e a primeira linha são \"Coluna 0\" e \"Linha 0\" respectivamente.\"\"\"\n",
        "\n",
        "# a matriz A possui as linhas len(A) e as colunas len (A[0])\n",
        "def shape(A):\n",
        "    num_rows = len(A)\n",
        "    num_cols = len(A[0]) if A else 0 # número de elementos na primeira linha\n",
        "    return num_rows, num_cols\n",
        "\n",
        "# uma matriz de 'n' linhas e 'k' colunas é uma matriz 'n x k'\n",
        "def get_row(A, i):\n",
        "    return A[i] # A[i] já é da linha A[i] é linha i-ésimo\n",
        "\n",
        "def get_column(A, j):\n",
        "    return [A_i[j] # j-ésimo elemento da linha A_i\n",
        "            for A_i in A] # para cada linha A_i\n",
        "\n",
        "def make_matrix(num_rows, num_cols, entry_fn):\n",
        "    \"\"\"retorna a matriz num_rowx X num_cols cuja entrada (i,j) é entry_fn(i,j)\"\"\"\n",
        "    return [[entry_fn(i, j)\n",
        "             for j in range(num_cols)] # [entry_fn(i, 0), ... ]\n",
        "            for i in range(num_rows)] # cria uma lista para cada i\n",
        "\n",
        "# dada essa função, é possivel criar uma matriz de identidade 5x5\n",
        "def is_diagonal (i, j):\n",
        "    \"\"\"1's na diagonal, 0's nos demais lugares\"\"\"\n",
        "    return 1 if i == j else 0\n",
        "\"\"\"[[1, 0, 0, 0, 0],\n",
        "    [0, 1, 0, 0, 0],\n",
        "    [0, 0, 1, 0, 0],\n",
        "    [0, 0, 0, 1, 0],\n",
        "    [0, 0, 0, 0, 1]]\"\"\"\n",
        "\n",
        "# antes tinha-mos\n",
        "friendship = [(0,1), (0,2), (1,2), (1,3), (2,3), (3,4),\n",
        "              (4,5), (5,6), (6,7), (7,8), (8,9)]\n",
        "\n",
        "# também poderia ser representado dessa forma\n",
        "# usuário 0 1 2 3 4 5 6 7 8 9\n",
        "friendships = [[0, 1, 1, 0, 0, 0, 0, 0, 0, 0], # user 0\n",
        "               [1, 0, 1, 1, 0, 0, 0, 0, 0, 0], # user 1\n",
        "               [1, 1, 0, 1, 0, 0, 0, 0, 0, 0], # user 2\n",
        "               [0, 1, 1, 0, 1, 0, 0, 0, 0, 0], # user 3\n",
        "               [0, 0, 0, 1, 0, 1, 0, 0, 0, 0], # user 4\n",
        "               [0, 0, 0, 0, 1, 0, 1, 1, 0, 0], # user 5\n",
        "               [0, 0, 0, 0, 0, 1, 0, 0, 1, 0], # user 6\n",
        "               [0, 0, 0, 0, 0, 1, 0, 0, 1, 0], # user 7\n",
        "               [0, 0, 0, 0, 0, 0, 1, 1, 0, 1], # user 8\n",
        "               [0, 0, 0, 0, 0, 0, 0, 0, 1, 0]] # user 9\n",
        "\n",
        "# é preciso apenas procurar na matriz em vez de procurar cada extremidade\n",
        "friendships[0][2] == 1 # True, 0 e 2 são amigos\n",
        "friendships[0][8] == 1 # False, 0 e 8 não são amigos\n",
        "\n",
        "# da mesma forma, para encontrar conexões que um nodo possui\n",
        "# é preciso apenas inspecionar a coluna (ou linha) correspondente àquele nodo\n",
        "friends_of_five = [i # precisamos apenas\n",
        "                    for i, is_friend in enumerate(friendship[5]) # olhar para\n",
        "                    if is_friend] # uma linha\n",
        "\n"
      ],
      "metadata": {
        "id": "UEZL_uW6bkNA"
      },
      "execution_count": 1,
      "outputs": []
    },
    {
      "cell_type": "markdown",
      "source": [
        "# Estatística"
      ],
      "metadata": {
        "id": "PlEnTobO4P9h"
      }
    },
    {
      "cell_type": "markdown",
      "source": [
        "*Os fatos são teimosos, mas as estatísticas são mais maleáveis.\n",
        "—Mark Twain*"
      ],
      "metadata": {
        "id": "xfd4iLgt5X91"
      }
    },
    {
      "cell_type": "markdown",
      "source": [
        "**Descrevendo um conjunto único de dados**"
      ],
      "metadata": {
        "id": "Q6oK7hrM5cfF"
      }
    },
    {
      "cell_type": "code",
      "source": [],
      "metadata": {
        "id": "SOb9ss-R5hlH"
      },
      "execution_count": null,
      "outputs": []
    }
  ]
}